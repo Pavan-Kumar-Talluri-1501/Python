{
  "nbformat": 4,
  "nbformat_minor": 0,
  "metadata": {
    "colab": {
      "name": "patterns.ipynb",
      "provenance": [],
      "collapsed_sections": []
    },
    "kernelspec": {
      "name": "python3",
      "display_name": "Python 3"
    },
    "language_info": {
      "name": "python"
    }
  },
  "cells": [
    {
      "cell_type": "markdown",
      "source": [
        "### Basic Calculator"
      ],
      "metadata": {
        "id": "dlnLT-7pM3_u"
      }
    },
    {
      "cell_type": "code",
      "source": [
        "class Calculator:\n",
        "  def add(self,a,b):\n",
        "    return a+b\n",
        "  def sub(self,a,b):\n",
        "    return a-b\n",
        "  def mul(self,a,b):\n",
        "    return a*b\n",
        "c1=Calculator()\n",
        "while True:\n",
        "  num1=int(input('enter first number: '))\n",
        "  num2=int(input('enter second number: '))\n",
        "  operator=input('choose any of the three operators i.e + or - or *: ')\n",
        "  if operator=='+':\n",
        "    print(c1.add(num1,num2))\n",
        "  elif operator=='-':\n",
        "    print(c1.sub(num1,num2))\n",
        "  elif operator=='*':\n",
        "    print(c1.mul(num1,num2))\n",
        "  else:\n",
        "    print('give a valid operator')\n",
        "\n",
        "  next_calculation = input(\"Let's do next calculation? (yes/no): \")\n",
        "  if next_calculation == \"no\":\n",
        "    print('thank you')\n",
        "    break\n",
        "\n",
        "\n"
      ],
      "metadata": {
        "colab": {
          "base_uri": "https://localhost:8080/"
        },
        "id": "mxr_Y4QVM-wG",
        "outputId": "0fb8f29a-04e7-4c8a-ecda-d8ce5d5f5406"
      },
      "execution_count": null,
      "outputs": [
        {
          "output_type": "stream",
          "name": "stdout",
          "text": [
            "enter first number: 2\n",
            "enter second number: 3\n",
            "choose any of the three operators i.e + or - or *: +\n",
            "5\n",
            "Let's do next calculation? (yes/no): no\n",
            "thank you\n"
          ]
        }
      ]
    },
    {
      "cell_type": "markdown",
      "source": [
        "# Star patterns"
      ],
      "metadata": {
        "id": "Yvw0GJepMJ3c"
      }
    },
    {
      "cell_type": "markdown",
      "source": [
        "### Increasing star pattern"
      ],
      "metadata": {
        "id": "OeQipNUSMQqH"
      }
    },
    {
      "cell_type": "code",
      "source": [
        "n = int(input('Enter no.of rows: '))\n",
        "for i in range(n):\n",
        "  for j in range(i+1):\n",
        "    print('*',end=' ')\n",
        "  print()"
      ],
      "metadata": {
        "id": "ZtKo8W2YGpC0",
        "colab": {
          "base_uri": "https://localhost:8080/"
        },
        "outputId": "2946f8b3-e717-4061-d04e-da2f0e786803"
      },
      "execution_count": 3,
      "outputs": [
        {
          "output_type": "stream",
          "name": "stdout",
          "text": [
            "Enter no.of rows: 5\n",
            "* \n",
            "* * \n",
            "* * * \n",
            "* * * * \n",
            "* * * * * \n"
          ]
        }
      ]
    },
    {
      "cell_type": "markdown",
      "source": [
        "### Decreasing triangle pattern"
      ],
      "metadata": {
        "id": "M1Q1bm91Mw8I"
      }
    },
    {
      "cell_type": "code",
      "source": [
        "n = int(input('Enter no.of rows: '))\n",
        "for i in range(n):\n",
        "  for j in range(i,n): # or for j in range(n-i)\n",
        "    print('*',end=' ')\n",
        "  print()"
      ],
      "metadata": {
        "colab": {
          "base_uri": "https://localhost:8080/"
        },
        "id": "1FmlJ01wMqVG",
        "outputId": "c54d26c5-ef3b-4171-eaa0-59bb449da942"
      },
      "execution_count": 6,
      "outputs": [
        {
          "output_type": "stream",
          "name": "stdout",
          "text": [
            "Enter no.of rows: 5\n",
            "* * * * * \n",
            "* * * * \n",
            "* * * \n",
            "* * \n",
            "* \n"
          ]
        }
      ]
    },
    {
      "cell_type": "markdown",
      "source": [
        "### Right sided triangle"
      ],
      "metadata": {
        "id": "HfLrzonzPrfR"
      }
    },
    {
      "cell_type": "code",
      "source": [
        "n=int(input('Enter no.of rows: '))\n",
        "for i in range(n):\n",
        "  for j in range(i,n):\n",
        "    print(' ',end=' ')\n",
        "  for j in range(i+1):\n",
        "    print('*',end=' ')\n",
        "  print()"
      ],
      "metadata": {
        "colab": {
          "base_uri": "https://localhost:8080/"
        },
        "id": "BSCVdjDeM6ps",
        "outputId": "d9d1faa2-52a4-4f7d-b7a0-bf8c92aead4f"
      },
      "execution_count": 9,
      "outputs": [
        {
          "output_type": "stream",
          "name": "stdout",
          "text": [
            "Enter no.of rows: 6\n",
            "            * \n",
            "          * * \n",
            "        * * * \n",
            "      * * * * \n",
            "    * * * * * \n",
            "  * * * * * * \n"
          ]
        }
      ]
    },
    {
      "cell_type": "code",
      "source": [
        "n=int(input('Enter no.of rows: '))\n",
        "for i in range(n):\n",
        "  for j in range(i+1):\n",
        "    print(' ',end=' ')\n",
        "  for j in range(i,n):\n",
        "    print('*',end=' ')\n",
        "  print()"
      ],
      "metadata": {
        "colab": {
          "base_uri": "https://localhost:8080/"
        },
        "id": "yRuRHk41QGy1",
        "outputId": "ed24e92d-910d-4db6-b527-70861b438e22"
      },
      "execution_count": 10,
      "outputs": [
        {
          "output_type": "stream",
          "name": "stdout",
          "text": [
            "Enter no.of rows: 5\n",
            "  * * * * * \n",
            "    * * * * \n",
            "      * * * \n",
            "        * * \n",
            "          * \n"
          ]
        }
      ]
    },
    {
      "cell_type": "markdown",
      "source": [
        "### Hill pattern"
      ],
      "metadata": {
        "id": "6OE8LpnJh-dd"
      }
    },
    {
      "cell_type": "code",
      "source": [
        "n=int(input('Enter no.of rows: '))\n",
        "for i in range(n):\n",
        "  for j in range(i,n):\n",
        "    print(\" \",end=' ')\n",
        "  for j in range(i+1):\n",
        "    print('*',end=' ')\n",
        "  for j in range(i):\n",
        "    print('*',end=' ')\n",
        "  print()  "
      ],
      "metadata": {
        "colab": {
          "base_uri": "https://localhost:8080/"
        },
        "id": "wvN1NSsrSY9t",
        "outputId": "506926c3-65d0-4d84-a929-be0dc5d40d9d"
      },
      "execution_count": 14,
      "outputs": [
        {
          "output_type": "stream",
          "name": "stdout",
          "text": [
            "Enter no.of rows: 5\n",
            "          * \n",
            "        * * * \n",
            "      * * * * * \n",
            "    * * * * * * * \n",
            "  * * * * * * * * * \n"
          ]
        }
      ]
    },
    {
      "cell_type": "code",
      "source": [
        "n=int(input('Enter no.of rows: '))\n",
        "for i in range(n):\n",
        "  for j in range(i+1):\n",
        "    print(\" \",end=' ')\n",
        "  for j in range(i,n):\n",
        "    print('*',end=' ')\n",
        "  for j in range(i,n-1):\n",
        "    print('*',end=' ')\n",
        "  print()  "
      ],
      "metadata": {
        "colab": {
          "base_uri": "https://localhost:8080/"
        },
        "id": "dMqRu0nIib48",
        "outputId": "975ef3c7-45df-4be9-ed1e-78dc82d63ec8"
      },
      "execution_count": 16,
      "outputs": [
        {
          "output_type": "stream",
          "name": "stdout",
          "text": [
            "Enter no.of rows: 5\n",
            "  * * * * * * * * * \n",
            "    * * * * * * * \n",
            "      * * * * * \n",
            "        * * * \n",
            "          * \n"
          ]
        }
      ]
    },
    {
      "cell_type": "markdown",
      "source": [
        "### Diamond pattern"
      ],
      "metadata": {
        "id": "YdLmfi5TLNqh"
      }
    },
    {
      "cell_type": "code",
      "source": [
        "n=int(input('Enter no.of rows: '))\n",
        "for i in range(n-1):\n",
        "  for j in range(i,n):\n",
        "    print(\" \",end=' ')\n",
        "  for j in range(i+1):\n",
        "    print('*',end=' ')\n",
        "  for j in range(i):\n",
        "    print('*',end=' ')\n",
        "  print()  \n",
        "for i in range(n):\n",
        "  for j in range(i+1):\n",
        "    print(\" \",end=' ')\n",
        "  for j in range(i,n):\n",
        "    print('*',end=' ')\n",
        "  for j in range(i,n-1):\n",
        "    print('*',end=' ')\n",
        "  print() \n"
      ],
      "metadata": {
        "colab": {
          "base_uri": "https://localhost:8080/"
        },
        "id": "Hp4JdNdhkJ1H",
        "outputId": "5af73ff9-0367-4d7b-cfee-765e3dc3441b"
      },
      "execution_count": 2,
      "outputs": [
        {
          "output_type": "stream",
          "name": "stdout",
          "text": [
            "Enter no.of rows: 5\n",
            "          * \n",
            "        * * * \n",
            "      * * * * * \n",
            "    * * * * * * * \n",
            "  * * * * * * * * * \n",
            "    * * * * * * * \n",
            "      * * * * * \n",
            "        * * * \n",
            "          * \n"
          ]
        }
      ]
    },
    {
      "cell_type": "code",
      "source": [
        ""
      ],
      "metadata": {
        "id": "kiDKFIV9LfrP"
      },
      "execution_count": null,
      "outputs": []
    }
  ]
}